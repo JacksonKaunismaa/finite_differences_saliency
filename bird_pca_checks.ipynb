{
 "cells": [
  {
   "cell_type": "code",
   "execution_count": null,
   "id": "6fc363e5-fa71-47f9-9975-014be41aa4ca",
   "metadata": {},
   "outputs": [],
   "source": [
    "import keras\n",
    "import os.path as osp\n",
    "import tensorflow as tf\n",
    "import sklearn.metrics\n",
    "from tqdm import tqdm, trange\n",
    "import pickle\n",
    "from torchvision.models import EfficientNet_B0_Weights, efficientnet_b0\n",
    "import torchvision\n",
    "from torchvision.transforms import transforms\n",
    "import matplotlib.pyplot as plt\n",
    "import glob as glob\n",
    "import numpy as np\n",
    "import torch\n",
    "import scipy.stats as stats\n",
    "from sklearn.preprocessing import StandardScaler\n",
    "from sklearn import decomposition\n",
    "from scipy.interpolate import RegularGridInterpolator\n",
    "import warnings\n",
    "\n",
    "from colorviz.conv_color import visualizations, utils, hooks\n",
    "from colorviz.conv_color.config_objects import ImageDatasetCfg, ExperimentConfig\n",
    "from colorviz.birds_dataset.data import ImageDataset\n",
    "from colorviz.birds_dataset import network\n",
    "\n",
    "\n",
    "%load_ext autoreload\n",
    "%autoreload 2"
   ]
  },
  {
   "cell_type": "code",
   "execution_count": null,
   "id": "b5301cc2-b93e-45fb-90d7-41b6e82c29fa",
   "metadata": {},
   "outputs": [],
   "source": [
    "data_cfg = ImageDatasetCfg(batch_size=512,\n",
    "                            num_workers=4,\n",
    "                            data_dir=\"/scratch/ssd004/scratch/jackk/birds_data\",\n",
    "                            device=\"cuda:0\")\n",
    "transform = EfficientNet_B0_Weights.IMAGENET1K_V1.transforms()\n",
    "\n",
    "dsets = {split: ImageDataset(split, transform, data_cfg, ddp=False) for split in [\"train\", \"valid\", \"test\"]}"
   ]
  },
  {
   "cell_type": "code",
   "execution_count": null,
   "id": "7f53de3d-7b3e-4b03-b078-6ddf12f668d8",
   "metadata": {},
   "outputs": [],
   "source": [
    "class Normalizer():\n",
    "    def __init__(self, means, scales):\n",
    "        self.means = np.asarray(means)[None, None, None, :]\n",
    "        self.scales = np.asarray(scales)[None, None, None, :]\n",
    "\n",
    "    def fwd(self, imgs):\n",
    "        if imgs.ndim < self.means.ndim:  # eg. if imgs is (b, 224, 224), apply red channel transformation only\n",
    "            return (imgs - self.means[..., 0]) / self.scales[...,0]\n",
    "        return (imgs - self.means) / self.scales\n",
    "\n",
    "    def rev(self, imgs):\n",
    "        if imgs.ndim < self.means.ndim:\n",
    "            return imgs * self.scales[...,0] + self.means[...,0]\n",
    "        return imgs * self.scales + self.means\n",
    "        \n",
    "normer = Normalizer(means=[0.485, 0.456, 0.406], scales=[0.229, 0.224, 0.225])\n"
   ]
  },
  {
   "cell_type": "code",
   "execution_count": null,
   "id": "157f43cd-d5cf-4dad-95a0-79b10ce47e66",
   "metadata": {},
   "outputs": [],
   "source": [
    "fwd_transform = transforms.Compose([transforms.Resize(256, antialias=True),\n",
    "                                    transforms.CenterCrop(224),\n",
    "                                                         ])\n",
    "raw_img = dsets['train'].load_raw(1234)[0]\n",
    "\n",
    "ours = normer.fwd(fwd_transform(raw_img).numpy().transpose(1,2,0)[None,...]).squeeze()\n",
    "tvision = dsets['train'][1234]['image'].numpy().transpose(1,2,0)\n",
    "print(ours.mean(axis=0).mean(axis=0))\n",
    "print(tvision.mean(axis=0).mean(axis=0))"
   ]
  },
  {
   "cell_type": "code",
   "execution_count": null,
   "id": "c8adb8ba-7ea1-41a7-9cfb-7ad6f98c2f7e",
   "metadata": {},
   "outputs": [],
   "source": [
    "with open(\"big_sample_pca_dirs_reshaped.pkl\", \"rb\") as p:\n",
    "    pca_direction_grids = pickle.load(p)"
   ]
  },
  {
   "cell_type": "code",
   "execution_count": null,
   "id": "fc816306-cc4f-4c1d-b807-924c440900df",
   "metadata": {},
   "outputs": [],
   "source": [
    "strides = [1] * len(pca_direction_grids)\n",
    "scales = [pca_dir.shape[3] for pca_dir in pca_direction_grids]\n",
    "im_size = 224\n",
    "\n",
    "random_permutes = [np.mgrid[:im_size, :im_size].transpose(1,2,0).reshape(-1,2) for _ in range(30)]\n",
    "for perm in random_permutes:\n",
    "    np.random.shuffle(perm) \n",
    "random_permutes = [x.reshape(im_size, im_size, 2) for x in random_permutes]\n",
    "\n",
    "full_sample = []\n",
    "sample_perm = []\n",
    "for i in trange(8192):\n",
    "    full_sample.append(dsets['train'].generate_one()[0])\n",
    "    red_channel = full_sample[-1][...,0]\n",
    "    perm = random_permutes[i % len(random_permutes)]\n",
    "    sample_perm.append(red_channel[perm[..., 0], perm[..., 1]])\n",
    "    \n",
    "print(set(x.shape for x in full_sample))\n",
    "full_sample = np.stack(full_sample, axis=0).squeeze()\n",
    "sample_perm = np.stack(sample_perm, axis=0).squeeze()\n",
    "\n",
    "\n",
    "im_size = full_sample.shape[1]\n",
    "im_channels = full_sample.shape[-1]"
   ]
  },
  {
   "cell_type": "code",
   "execution_count": null,
   "id": "189ef37d-37a5-4d40-a844-f231598e0b70",
   "metadata": {},
   "outputs": [],
   "source": [
    "plt.imshow(normer.rev(sample[5]))"
   ]
  },
  {
   "cell_type": "code",
   "execution_count": null,
   "id": "768116f0-fe65-43bf-9b73-f668b6fbc776",
   "metadata": {},
   "outputs": [],
   "source": [
    "plt.imshow(sample_perm[5])"
   ]
  },
  {
   "cell_type": "code",
   "execution_count": null,
   "id": "b1b94812-01bb-4355-a312-2c784285c877",
   "metadata": {},
   "outputs": [],
   "source": [
    "print(sample_perm[5].mean(), sample_perm[5].std())\n",
    "print(sample[5][...,0].mean(), sample[5][...,0].std())"
   ]
  },
  {
   "cell_type": "code",
   "execution_count": null,
   "id": "49c316d8-8b27-4ed9-b943-e453d9e0a8bf",
   "metadata": {
    "jupyter": {
     "source_hidden": true
    }
   },
   "outputs": [],
   "source": [
    "def do_pca(sample, scales, num_components=4): # dont use anymore\n",
    "    print(\"Got sample, beginning directions\")\n",
    "    pca_direction_grids = []\n",
    "    strides = [2] * len(scales)\n",
    "    sample_size = sample.shape[0]\n",
    "    im_channels = sample.shape[-1]\n",
    "    for scale, stride in zip(scales, strides):\n",
    "        windows = np.lib.stride_tricks.sliding_window_view(sample, (scale,scale), axis=(1,2))\n",
    "        strided_windows = windows[:, ::stride, ::stride, :]  # [N, H, W, C]\n",
    "    \n",
    "        xs = np.mgrid[scale:im_size:stride]  # technically wrong (but its shape is correct)\n",
    "        num_grid = xs.shape[0]\n",
    "        pca_direction_grid = np.zeros((num_grid, num_grid, num_components, scale, scale, im_channels))\n",
    "        pca_fitter = decomposition.PCA(n_components=num_components, copy=False)\n",
    "        scale_fitter = StandardScaler()\n",
    "        for i in tqdm(range(num_grid)):\n",
    "            for j in range(num_grid):\n",
    "                pca_selection = strided_windows[:, i, j, :]\n",
    "                flattened = pca_selection.reshape(sample_size, -1)\n",
    "                normalized = scale_fitter.fit_transform(flattened)\n",
    "                with warnings.catch_warnings():\n",
    "                    warnings.simplefilter(\"ignore\")  # gives pointless zero-division warnings\n",
    "                    pca_fitter.fit(normalized)\n",
    "                for comp in range(num_components):\n",
    "                    pca_direction_grid[i, j, comp] = pca_fitter.components_[comp].reshape(scale, scale, im_channels)\n",
    "    \n",
    "        pca_direction_grids.append(pca_direction_grid.copy())\n",
    "    return pca_direction_grids\n"
   ]
  },
  {
   "cell_type": "code",
   "execution_count": null,
   "id": "4473dc5b-ea3b-4473-96e6-53097c549293",
   "metadata": {
    "jupyter": {
     "outputs_hidden": true,
     "source_hidden": true
    }
   },
   "outputs": [],
   "source": [
    "num_components = 4\n",
    "sample = full_sample[:1024]\n",
    "scales = [15]\n",
    "print(\"Got sample, beginning directions\")\n",
    "pca_direction_grids = []\n",
    "strides = [2] * len(scales)\n",
    "sample_size = sample.shape[0]\n",
    "im_channels = sample.shape[-1]\n",
    "for scale, stride in zip(scales, strides):\n",
    "    windows = np.lib.stride_tricks.sliding_window_view(sample, (scale,scale), axis=(1,2))\n",
    "    strided_windows = windows[:, ::stride, ::stride, :]  # [N, abs_posx, abs_posy, C, within_windowx, within_windowy]\n",
    "\n",
    "    pca_direction_grid = np.zeros((strided_windows.shape[1], strided_windows.shape[2], num_components, scale, scale, im_channels))\n",
    "    pca_fitter = decomposition.PCA(n_components=num_components, copy=False)\n",
    "    scale_fitter = StandardScaler()\n",
    "    for i in tqdm(range(strided_windows.shape[1])):\n",
    "        for j in range(strided_windows.shape[2]):\n",
    "            pca_selection = strided_windows[:, i, j].transpose(0,2,3,1)  #  [N, within_windowx, within_windowy, C]\n",
    "            flattened = pca_selection.reshape(sample_size, -1)\n",
    "            normalized = scale_fitter.fit_transform(flattened)\n",
    "            with warnings.catch_warnings():\n",
    "                warnings.simplefilter(\"ignore\")  # gives pointless zero-division warnings\n",
    "                pca_fitter.fit(normalized)\n",
    "            for comp in range(num_components):\n",
    "                pca_direction_grid[i, j, comp] = pca_fitter.components_[comp].reshape(scale, scale, im_channels)\n",
    "\n",
    "    pca_direction_grids.append(pca_direction_grid.copy())\n"
   ]
  },
  {
   "cell_type": "code",
   "execution_count": null,
   "id": "5e0b995c-71e9-4aeb-afe4-8aea8bd55e3f",
   "metadata": {},
   "outputs": [],
   "source": [
    "for i in range(5):\n",
    "    for j in range(7):\n",
    "        plt.subplot(5,7, i*7+j+1)\n",
    "        plt.imshow(normer.rev(pca_selection[:35].reshape(5,7,3,3,3)[i,j]))"
   ]
  },
  {
   "cell_type": "code",
   "execution_count": null,
   "id": "a8347c65-dd81-416a-88cd-eb96b612cb78",
   "metadata": {},
   "outputs": [],
   "source": [
    "plt.imshow(split_channels_medium[0][0,0,0,:,:,0])"
   ]
  },
  {
   "cell_type": "code",
   "execution_count": null,
   "id": "9e0820e3-6d67-4230-a4a1-0de7db5df206",
   "metadata": {},
   "outputs": [],
   "source": [
    "# subselect to channel 0 since we are only doing this for comparison so only need to compute channel 0\n",
    "split_channels_medium2 = visualizations.find_pca_directions(None, [7], 2, \n",
    "                                                           sample=full_sample[:5,...,0], num_components=5, split_channels=True)"
   ]
  },
  {
   "cell_type": "code",
   "execution_count": null,
   "id": "5a6704d5-3638-4a98-b4f1-bffd6c7959d7",
   "metadata": {},
   "outputs": [],
   "source": [
    "# subselect to channel 0 since we are only doing this for comparison so only need to compute channel 0\n",
    "split_channels_medium = visualizations.find_pca_directions(None, [7], 2, \n",
    "                                                           sample=full_sample[:4096,...,0], num_components=5, split_channels=True)"
   ]
  },
  {
   "cell_type": "code",
   "execution_count": null,
   "id": "ba5aa312-ffde-46bb-a2e9-ed3585adbf08",
   "metadata": {},
   "outputs": [],
   "source": [
    "medium_patch_fixed = visualizations.find_pca_directions(None, [7], 2, sample=full_sample[:4096], num_components=5)"
   ]
  },
  {
   "cell_type": "code",
   "execution_count": null,
   "id": "ded84ed8-1621-463a-851c-99b6ee94ba5d",
   "metadata": {},
   "outputs": [],
   "source": [
    "permuted_medium_patch_fixed = visualizations.find_pca_directions(None, [7], 2, sample=sample_perm[:4096], num_components=5)"
   ]
  },
  {
   "cell_type": "code",
   "execution_count": null,
   "id": "60070119-0edd-4db2-90e1-d6e06c600699",
   "metadata": {
    "jupyter": {
     "outputs_hidden": true
    }
   },
   "outputs": [],
   "source": [
    "visualizations.visualize_pca_directions(permuted_medium_patch_fixed, \"Permuted medium patches, fixed (4096)\", [7], lines=False)"
   ]
  },
  {
   "cell_type": "code",
   "execution_count": null,
   "id": "01fd3f33-a607-449e-92b5-b7d1312c1a0e",
   "metadata": {
    "jupyter": {
     "outputs_hidden": true
    }
   },
   "outputs": [],
   "source": [
    "visualizations.visualize_pca_directions(split_channels_medium, \"Permuted medium patches, fixed (4096)\", [7], lines=False)"
   ]
  },
  {
   "cell_type": "code",
   "execution_count": null,
   "id": "e07a21a7-0135-4e63-a90d-ca798a11da99",
   "metadata": {},
   "outputs": [],
   "source": [
    "plt.imshow(medium_patch_fixed[0][0, 0, 0, ..., 0])"
   ]
  },
  {
   "cell_type": "code",
   "execution_count": null,
   "id": "9c988cad-a216-446e-a8be-64d91208634d",
   "metadata": {},
   "outputs": [],
   "source": [
    "pca_direction_grids[2].shape"
   ]
  },
  {
   "cell_type": "code",
   "execution_count": null,
   "id": "b8869381-b0d9-4b52-b79e-f68f93e72cc0",
   "metadata": {},
   "outputs": [],
   "source": [
    "fixed_pca_direction_grids = []\n",
    "for pca_grid in pca_direction_grids:\n",
    "    num_x, num_y, num_comp, scalex, scaley, num_channels = pca_grid.shape\n",
    "    fixed_pca_direction_grids.append(pca_grid.reshape(num_x, num_y, num_comp, scalex*scaley*num_channels)\n",
    "                                             .reshape(num_x, num_y, num_comp, num_channels, scalex, scaley)\n",
    "                                             .transpose(0,1,2,4,5,3))\n",
    "with open(\"big_sample_pca_dirs_reshaped.pkl\", \"wb\") as p:\n",
    "    pickle.dump(fixed_pca_direction_grids, p)"
   ]
  },
  {
   "cell_type": "code",
   "execution_count": null,
   "id": "2f049527-30bb-4725-b4b5-15346a468155",
   "metadata": {},
   "outputs": [],
   "source": [
    "with open(\"big_sample_pca_dirs_reshaped.pkl\", \"rb\") as p:\n",
    "    fixed_pca_direction_grids = pickle.load(p)"
   ]
  },
  {
   "cell_type": "code",
   "execution_count": null,
   "id": "387d603e-f929-4dec-a3cc-0d4c3aee503b",
   "metadata": {},
   "outputs": [],
   "source": [
    "plt.imshow(medium_patch_fixed[0][0,0,0, :, :, 0])\n",
    "plt.colorbar()\n",
    "# => zero-centering the colobars will cause all contrast to be lost and that's why the component 0s looked uniform"
   ]
  },
  {
   "cell_type": "code",
   "execution_count": null,
   "id": "d3f0f193-86a4-44f4-bab2-2494454ebaa2",
   "metadata": {},
   "outputs": [],
   "source": [
    "utils.plt_grid_figure(medium_patch_fixed[0][::20, ::20, 0, :, :, 0], first_cmap=\"bwr\", cmap=\"bwr\", colorbar=True, zero_centered_cmap=False)"
   ]
  },
  {
   "cell_type": "code",
   "execution_count": null,
   "id": "ae59eb08-d697-48a9-9d85-09a53733e8c9",
   "metadata": {},
   "outputs": [],
   "source": [
    "utils.plt_grid_figure(fixed_pca_direction_grids[2][::16, ::16, 0, :, :, 0], first_cmap=\"bwr\", cmap=\"bwr\", colorbar=False, zero_centered_cmap=False)\n",
    "# After reshaping and transposing the old direction_grids, and removing the zero-centering, it matches the correct computation\n",
    "# so we don't have to redo all those computations"
   ]
  },
  {
   "cell_type": "code",
   "execution_count": null,
   "id": "7b300e21-b9c3-4c1c-becc-95a708167d8c",
   "metadata": {},
   "outputs": [],
   "source": [
    "# medium_patch_fixed.shape (109, 109, 5, 7, 7, 3)\n",
    "utils.plt_grid_figure(medium_patch_fixed[0][::8, ::8, 0, :, :, 0], first_cmap=\"bwr\", cmap=\"bwr\", colorbar=False, zero_centered_cmap=False)\n",
    "# an example of what the 7x7 patches are supposed to look like for component 0"
   ]
  },
  {
   "cell_type": "code",
   "execution_count": null,
   "id": "6cdc70bc-9eb1-4253-babb-403e7a703ba3",
   "metadata": {},
   "outputs": [],
   "source": [
    "utils.plt_grid_figure(medium_patch_fixed[0][::8, ::8, 1, :, :, 0], first_cmap=\"bwr\", cmap=\"bwr\", colorbar=False, zero_centered_cmap=False)\n",
    "# what the 7x7 patches are supposed to look like for component 1"
   ]
  },
  {
   "cell_type": "code",
   "execution_count": null,
   "id": "562e1591-f686-4c84-8158-24fe7f13eda5",
   "metadata": {},
   "outputs": [],
   "source": [
    "utils.plt_grid_figure(medium_patch_fixed[0][::8, ::8, 2, :, :, 0], first_cmap=\"bwr\", cmap=\"bwr\", colorbar=False, zero_centered_cmap=False)\n",
    "# what the 7x7 patches are supposed to look like for component 2"
   ]
  },
  {
   "cell_type": "code",
   "execution_count": null,
   "id": "8b77bbf5-ff98-4d46-bb79-50145861ffac",
   "metadata": {},
   "outputs": [],
   "source": [
    "utils.plt_grid_figure(medium_patch_fixed[0][::8, ::8, 3, :, :, 0], first_cmap=\"bwr\", cmap=\"bwr\", colorbar=False, zero_centered_cmap=False)\n",
    "# what the 7x7 patches are supposed to look like for component 3"
   ]
  },
  {
   "cell_type": "code",
   "execution_count": null,
   "id": "2f92f9bb-dd25-4153-bf68-cc8e5ce40c49",
   "metadata": {},
   "outputs": [],
   "source": [
    "utils.plt_grid_figure(split_channels_medium[0][::8, ::8, 4, :, :, 0], first_cmap=\"bwr\", cmap=\"bwr\", colorbar=False, zero_centered_cmap=False)\n",
    "# for comparison\n",
    "# qualitatively, they are quite different => worthwhile to check if doing chanels individually is better"
   ]
  },
  {
   "cell_type": "code",
   "execution_count": null,
   "id": "c8f70a1a-fcc2-4e33-b5ea-10a8db543efc",
   "metadata": {},
   "outputs": [],
   "source": [
    "utils.plt_grid_figure(medium_patch_fixed[0][::8, ::8, 4, :, :, 0], first_cmap=\"bwr\", cmap=\"bwr\", colorbar=False, zero_centered_cmap=False)\n",
    "# what the 7x7 patches are supposed to look like for component 4"
   ]
  },
  {
   "cell_type": "code",
   "execution_count": null,
   "id": "8dfece2d-4eb4-4fce-804a-434fa6ea78e9",
   "metadata": {
    "jupyter": {
     "outputs_hidden": true
    }
   },
   "outputs": [],
   "source": [
    "visualizations.visualize_pca_directions([medium_patch_fixed[0][::10, ::10]], \"Medium patches fixed (4096)\", [7], lines=False)"
   ]
  },
  {
   "cell_type": "code",
   "execution_count": null,
   "id": "22f079fd-2d55-47c0-a39a-f2ef56f5f9ff",
   "metadata": {
    "jupyter": {
     "outputs_hidden": true
    }
   },
   "outputs": [],
   "source": [
    "visualizations.visualize_pca_directions(medium_patch_fixed, \"Medium patches fixed (4096)\", [7], lines=False)"
   ]
  },
  {
   "cell_type": "code",
   "execution_count": null,
   "id": "c6fccac9-d6e4-411f-a1d6-a4e8dac0406b",
   "metadata": {
    "jupyter": {
     "outputs_hidden": true
    }
   },
   "outputs": [],
   "source": [
    "visualizations.visualize_pca_directions(pca_direction_grids, \"Randomly permuted PCA (8192)\", [3], lines=False)"
   ]
  },
  {
   "cell_type": "code",
   "execution_count": null,
   "id": "52624739-eddb-4a18-b1f6-8f02572acbe6",
   "metadata": {},
   "outputs": [],
   "source": [
    "strided_windows.shape"
   ]
  },
  {
   "cell_type": "code",
   "execution_count": null,
   "id": "ec39f7fa-c6c9-4a81-8732-ff01bccd8a58",
   "metadata": {},
   "outputs": [],
   "source": [
    "windows.shape"
   ]
  },
  {
   "cell_type": "code",
   "execution_count": null,
   "id": "59b696b8-f2d8-4361-95de-a92ef94ea3af",
   "metadata": {},
   "outputs": [],
   "source": [
    "random_pca_dirs = do_pca(sample_perm[...,None], [3])"
   ]
  },
  {
   "cell_type": "code",
   "execution_count": null,
   "id": "89f45e28-30e5-4209-8ac9-33ab9f4a7838",
   "metadata": {},
   "outputs": [],
   "source": [
    "random_big_pca_dirs = do_pca(sample_perm[:100, ..., None], [25])"
   ]
  },
  {
   "cell_type": "code",
   "execution_count": null,
   "id": "cc455e78-82cc-4f47-9da4-87b5485d1be1",
   "metadata": {},
   "outputs": [],
   "source": [
    "random_full_pca_dirs = do_pca(sample_perm[..., None], [222])"
   ]
  },
  {
   "cell_type": "code",
   "execution_count": null,
   "id": "accb0dfd-fe91-4560-8772-9fd1211f1abb",
   "metadata": {},
   "outputs": [],
   "source": [
    "big_patches = do_pca(sample, [222])"
   ]
  },
  {
   "cell_type": "code",
   "execution_count": null,
   "id": "5367fb7f-4d11-4dcd-a3d7-d832dd93376c",
   "metadata": {
    "jupyter": {
     "outputs_hidden": true
    }
   },
   "outputs": [],
   "source": [
    "visualizations.visualize_pca_directions(random_pca_dirs, \"Randomly permuted PCA (8192)\", [3], lines=False)\n",
    "# an example of what the PCA dirs for permuted images (aka. each pixel has the same marginal distribution,\n",
    "# but any conditional structure is removed). Clearly its uniform noise, which is good"
   ]
  },
  {
   "cell_type": "code",
   "execution_count": null,
   "id": "cdd6438d-cec0-4ecb-8d61-d965e4a994b7",
   "metadata": {},
   "outputs": [],
   "source": [
    "big_patches[0].shape"
   ]
  },
  {
   "cell_type": "code",
   "execution_count": null,
   "id": "3b5d82d2-31fe-4855-8137-1acb2e79ad15",
   "metadata": {},
   "outputs": [],
   "source": [
    "np.concatenate(np.concatenate(big_patches[0][:, :, 0, :, :, 0], 1), 1).shape"
   ]
  },
  {
   "cell_type": "code",
   "execution_count": null,
   "id": "4e62f9c9-9234-4f6d-8c4e-f0670b4d76d8",
   "metadata": {
    "jupyter": {
     "outputs_hidden": true
    }
   },
   "outputs": [],
   "source": [
    "x = np.arange(600).reshape(2, 3, 2, 5, 5, 2)\n",
    "x[0,1, 0, :, :, 1]"
   ]
  },
  {
   "cell_type": "code",
   "execution_count": null,
   "id": "7de211bf-1dff-43a8-a731-f27126205ea0",
   "metadata": {
    "jupyter": {
     "outputs_hidden": true
    }
   },
   "outputs": [],
   "source": [
    "np.concatenate(np.concatenate(x[:, :, 0, :, :, 1], 1), 1)"
   ]
  },
  {
   "cell_type": "code",
   "execution_count": null,
   "id": "7f8a6a4a-6575-4e1a-8111-0d91e24f4258",
   "metadata": {},
   "outputs": [],
   "source": [
    "visualizations.visualize_pca_directions(big_patches, \"Big patches, regular (8192)\", [222], lines=True)"
   ]
  },
  {
   "cell_type": "code",
   "execution_count": null,
   "id": "fb2bbc7d-1240-4769-b92b-20b56d62161d",
   "metadata": {},
   "outputs": [],
   "source": [
    "visualizations.visualize_pca_directions(random_big_pca_dirs, \"Bigger patches, permuted (100)\", [25], lines=False)"
   ]
  },
  {
   "cell_type": "code",
   "execution_count": null,
   "id": "19525045-6bbe-4ada-a080-3770e252a6ed",
   "metadata": {},
   "outputs": [],
   "source": [
    "visualizations.visualize_pca_directions(random_full_pca_dirs, \"Largest possible patches, permuted (8192)\", [222], lines=True)"
   ]
  },
  {
   "cell_type": "code",
   "execution_count": null,
   "id": "86edc343-9aac-4eed-8f06-f043545779d1",
   "metadata": {},
   "outputs": [],
   "source": [
    "visualizations.visualize_pca_directions(pca_direction_grids, \"\", lines=False)"
   ]
  }
 ],
 "metadata": {
  "kernelspec": {
   "display_name": "Python 3 (ipyflow)",
   "language": "python",
   "name": "ipyflow"
  },
  "language_info": {
   "codemirror_mode": {
    "name": "ipython",
    "version": 3
   },
   "file_extension": ".py",
   "mimetype": "text/x-python",
   "name": "python",
   "nbconvert_exporter": "python",
   "pygments_lexer": "ipython3",
   "version": "3.10.4"
  }
 },
 "nbformat": 4,
 "nbformat_minor": 5
}
