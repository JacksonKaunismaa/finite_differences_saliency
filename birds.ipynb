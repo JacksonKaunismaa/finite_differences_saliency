{
 "cells": [
  {
   "cell_type": "code",
   "execution_count": null,
   "metadata": {},
   "outputs": [],
   "source": [
    "import keras\n",
    "import os.path as osp\n",
    "import tensorflow as tf\n",
    "import sklearn.metrics\n",
    "from tqdm import tqdm"
   ]
  },
  {
   "cell_type": "code",
   "execution_count": null,
   "metadata": {},
   "outputs": [],
   "source": [
    "path = \"/scratch/ssd004/scratch/jackk/birds_data\"\n",
    "model = keras.models.load_model(osp.join(path, 'EfficientNetB0-525-(224 X 224)- 98.97.h5'), custom_objects={'F1_score':'F1_score'}) "
   ]
  },
  {
   "cell_type": "code",
   "execution_count": null,
   "metadata": {},
   "outputs": [],
   "source": [
    "te_dset = tf.keras.utils.image_dataset_from_directory(osp.join(path, \"test\"), image_size=(224, 224))\n",
    "va_dset = tf.keras.utils.image_dataset_from_directory(osp.join(path, \"valid\"), image_size=(224, 224))"
   ]
  },
  {
   "cell_type": "code",
   "execution_count": null,
   "metadata": {},
   "outputs": [],
   "source": [
    "# rotate, crop and scale back up\n",
    "def get_f1(dset, scale=20):\n",
    "    full_labels = tf.zeros([0], dtype=tf.int32)\n",
    "    full_preds = tf.zeros([0], dtype=tf.int64)\n",
    "    for b in tqdm(dset):\n",
    "        noise = tf.random.uniform(b[0].shape, minval=-scale, maxval=scale)\n",
    "        preds = model(b[0] + noise)\n",
    "        full_labels = tf.concat([full_labels, b[1]], 0)\n",
    "        full_preds = tf.concat([full_preds, tf.math.argmax(preds, axis=-1)], 0)\n",
    "    full_labels = full_labels.numpy()\n",
    "    full_preds = full_preds.numpy()\n",
    "    return sklearn.metrics.f1_score(full_preds, full_labels, average=\"micro\")"
   ]
  },
  {
   "cell_type": "code",
   "execution_count": null,
   "metadata": {},
   "outputs": [],
   "source": [
    "print(get_f1(te_dset, scale=50))\n",
    "# print(get_f1(va_dset))"
   ]
  }
 ],
 "metadata": {
  "kernelspec": {
   "display_name": "Python 3 (ipyflow)",
   "language": "python",
   "name": "ipyflow"
  },
  "language_info": {
   "codemirror_mode": {
    "name": "ipython",
    "version": 3
   },
   "file_extension": ".py",
   "mimetype": "text/x-python",
   "name": "python",
   "nbconvert_exporter": "python",
   "pygments_lexer": "ipython3",
   "version": "3.10.4"
  }
 },
 "nbformat": 4,
 "nbformat_minor": 2
}
