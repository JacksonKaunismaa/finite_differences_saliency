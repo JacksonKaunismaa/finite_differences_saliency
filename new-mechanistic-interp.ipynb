{
 "cells": [
  {
   "cell_type": "code",
   "execution_count": null,
   "id": "74536b56",
   "metadata": {},
   "outputs": [],
   "source": [
    "import torch\n",
    "import torchvision\n",
    "import torchvision.transforms as transforms\n",
    "import torch.nn as nn\n",
    "import torch.nn.functional as F\n",
    "from tqdm import tqdm\n",
    "import numpy as np\n",
    "import time\n",
    "import os\n",
    "import matplotlib.pyplot as plt\n",
    "from matplotlib.backends.backend_pdf import PdfPages\n",
    "from collections import defaultdict\n",
    "import pickle\n",
    "\n",
    "from color_regions import *\n",
    "from network import *\n",
    "from visualizations import *\n",
    "from utils import *\n",
    "from hooks import *\n",
    "from config_objects import *\n",
    "from training import *\n",
    "\n",
    "# set up autoreloading of shared code\n",
    "%load_ext autoreload\n",
    "%autoreload 1\n",
    "%aimport color_regions,network,visualizations,utils,hooks,config_objects,training\n",
    "%aimport\n",
    "\n",
    "torch.backends.cudnn.benchmark = True\n",
    "device = \"cuda:0\" if torch.cuda.is_available() else \"cpu\""
   ]
  },
  {
   "cell_type": "code",
   "execution_count": null,
   "id": "c72f4960",
   "metadata": {},
   "outputs": [],
   "source": [
    "train_indices = (0, 250_000) # size of training set\n",
    "valid_indices = (1_250_000, 1_275_000)\n",
    "test_indices = (3_260_000, 3_560_000)\n",
    "\n",
    "critical_color_values = list(range(0,241,30))\n",
    "\n",
    "dset_config = ColorDatasetConfig(task_difficulty=\"hard\",\n",
    "                                 noise_size=(1,9),\n",
    "                                 num_classes=3,\n",
    "                                 num_objects=0,  # => permuted\n",
    "                                 radius=(1/8., 1/7.),\n",
    "                                 device=device,\n",
    "                                 batch_size=128)\n",
    "\n",
    "# copies the config each time\n",
    "train_set = ColorDatasetGenerator(train_indices, dset_config)\n",
    "valid_set = ColorDatasetGenerator(valid_indices, dset_config)\n",
    "test_set = ColorDatasetGenerator(test_indices, dset_config)\n",
    "# train_set.cfg.infinite = True"
   ]
  },
  {
   "cell_type": "code",
   "execution_count": null,
   "id": "38a973a6",
   "metadata": {},
   "outputs": [],
   "source": [
    "tiny_config = ExperimentConfig()\n",
    "tiny_config.layer_sizes = [[2, 3, 4], [6, 3, 4]]\n",
    "\n",
    "tiny_net = ResNet(\"full_random_noisy/0.001_3.7926901907322535e-06_False_tiny_size_0.2_30.dict\", \n",
    "                  tiny_config, dset_config).to(device)\n",
    "loss_func = nn.CrossEntropyLoss()\n",
    "tiny_optim = torch.optim.Adam(tiny_net.parameters())\n",
    "print(tiny_net.num_params())\n",
    "tiny_net.load_model_state_dict(optim=tiny_optim)"
   ]
  },
  {
   "cell_type": "code",
   "execution_count": null,
   "id": "c18d26d3",
   "metadata": {},
   "outputs": [],
   "source": [
    "tiny_net.eval()\n",
    "interp_net = AllActivations(tiny_net)\n",
    "profile_plots,_ = activation_color_profile(AllActivations(tiny_net), valid_set)"
   ]
  },
  {
   "cell_type": "code",
   "execution_count": null,
   "id": "23aabbb9",
   "metadata": {},
   "outputs": [],
   "source": [
    "show_conv_weights(interp_net, \"conv_blocks.0.act_func1\", color_profile=profile_plots)"
   ]
  },
  {
   "cell_type": "code",
   "execution_count": null,
   "id": "03710057",
   "metadata": {},
   "outputs": [],
   "source": [
    "show_conv_weights(interp_net, \"conv_blocks.0.act_func2\", color_profile=profile_plots)"
   ]
  },
  {
   "cell_type": "code",
   "execution_count": null,
   "id": "155d25d2",
   "metadata": {},
   "outputs": [],
   "source": [
    "show_conv_weights(interp_net, \"conv_blocks.1.act_func1\", color_profile=profile_plots)"
   ]
  },
  {
   "cell_type": "code",
   "execution_count": null,
   "id": "1fd5bd7c",
   "metadata": {},
   "outputs": [],
   "source": [
    "show_conv_weights(interp_net, \"conv_blocks.1.act_func2\", color_profile=profile_plots, \n",
    "                  full_gridspec=False, show_scale=True)"
   ]
  },
  {
   "cell_type": "code",
   "execution_count": null,
   "id": "61eb8702",
   "metadata": {},
   "outputs": [],
   "source": [
    "show_fc_conv(interp_net, color_profile=profile_plots)"
   ]
  }
 ],
 "metadata": {
  "kernelspec": {
   "display_name": "Python 3 (ipykernel)",
   "language": "python",
   "name": "python3"
  },
  "language_info": {
   "codemirror_mode": {
    "name": "ipython",
    "version": 3
   },
   "file_extension": ".py",
   "mimetype": "text/x-python",
   "name": "python",
   "nbconvert_exporter": "python",
   "pygments_lexer": "ipython3",
   "version": "3.10.8"
  }
 },
 "nbformat": 4,
 "nbformat_minor": 5
}
