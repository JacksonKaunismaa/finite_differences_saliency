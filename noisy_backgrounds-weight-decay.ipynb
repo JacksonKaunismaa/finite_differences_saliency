{
 "cells": [
  {
   "cell_type": "code",
   "execution_count": null,
   "id": "6f59161e",
   "metadata": {},
   "outputs": [],
   "source": [
    "import torch\n",
    "import torchvision\n",
    "import torchvision.transforms as transforms\n",
    "import torch.nn as nn\n",
    "import torch.nn.functional as F\n",
    "from tqdm import tqdm\n",
    "import numpy as np\n",
    "import time\n",
    "import os\n",
    "import matplotlib.pyplot as plt\n",
    "from matplotlib.backends.backend_pdf import PdfPages\n",
    "from collections import defaultdict\n",
    "\n",
    "import color_regions, network, visualizations, utils\n",
    "from color_regions import *\n",
    "from network import *\n",
    "from visualizations import *\n",
    "from utils import *\n",
    "from hooks import *\n",
    "\n",
    "torch.backends.cudnn.benchmark = True\n",
    "device = \"cuda:0\" if torch.cuda.is_available() else \"cpu\""
   ]
  },
  {
   "cell_type": "code",
   "execution_count": null,
   "id": "6bcabd54",
   "metadata": {},
   "outputs": [],
   "source": [
    "# set up autoreloading of shared code\n",
    "%load_ext autoreload\n",
    "%autoreload 1\n",
    "%aimport color_regions,network,visualizations,utils,hooks\n",
    "%aimport"
   ]
  },
  {
   "cell_type": "code",
   "execution_count": null,
   "id": "0f4eadc4",
   "metadata": {},
   "outputs": [],
   "source": [
    "transform = transforms.Compose(\n",
    "     [transforms.ToTensor()])#,\n",
    "    #transforms.Normalize((0.5), (0.5))])\n",
    "\n",
    "batch_size = 128 # seems to be the fastest batch size\n",
    "train_indices = (0, 100_000) # size of training set\n",
    "valid_indices = (1_250_000, 1_300_000)\n",
    "test_indices = (2_260_000, 2_360_000)\n",
    "\n",
    "def color_classifier(color):  \n",
    "    if color <= 30:  # => 3 classes\n",
    "        return 0\n",
    "    if 30 < color <= 60:  # => 90/255 is 0, 90/255 is 1, 75/255 is 2\n",
    "        return 1\n",
    "    if 60 < color <= 90:\n",
    "        return 2\n",
    "    if 90 < color <= 120:\n",
    "        return 1\n",
    "    if 120 < color <= 150:\n",
    "        return 0\n",
    "    if 150 < color <= 180:\n",
    "        return 1\n",
    "    if 180 < color <= 210:\n",
    "        return 2\n",
    "    if 210 < color <= 240:\n",
    "        return 0\n",
    "    if 240 < color:\n",
    "        return 2\n",
    "critical_color_values = list(range(0,241,30))\n",
    "\n",
    "def set_loader_helper(indices, infinite=False):\n",
    "    data_set = ColorDatasetGenerator(color_classifier=color_classifier,\n",
    "                                    image_indices=indices,\n",
    "                                    transform=transform,\n",
    "                                    color_range=(5, 255),\n",
    "                                    noise_size=(1,9),\n",
    "                                    num_classes=3,\n",
    "                                    infinite=infinite,\n",
    "                                    size=128,\n",
    "                                    num_objects=0,\n",
    "                                    radius=(128//8, 128//7))\n",
    "    loader = torch.utils.data.DataLoader(data_set, batch_size=batch_size, \n",
    "                                          shuffle=True, num_workers=6, pin_memory=True)\n",
    "    return data_set, loader\n",
    "\n",
    "train_set, train_loader = set_loader_helper(train_indices, infinite=False)\n",
    "valid_set, valid_loader = set_loader_helper(valid_indices)\n",
    "test_set, test_loader = set_loader_helper(test_indices)"
   ]
  },
  {
   "cell_type": "code",
   "execution_count": null,
   "id": "e28d1924",
   "metadata": {},
   "outputs": [],
   "source": [
    "# determine good weight decay and gain parameter\n",
    "curves = {}\n",
    "#results = {}\n",
    "for gain in [0.1]:#, 0.4]: #0.01]:\n",
    "    for i, weight_decay in enumerate(list(10**np.linspace(-5, 1, 12)) + [1e-6, 3e-6]):\n",
    "        # set up model\n",
    "        for k in results:\n",
    "            if k[0] == gain and np.isclose(k[1], weight_decay):\n",
    "                print(\"Done gain\", gain, \"weight decay\", weight_decay, \"continuing...\")\n",
    "                break\n",
    "        else:\n",
    "            large_net = ResNet([[16, 3, 1],  # num_channels (input and output), kernel_size, stride\n",
    "                                [32, 3, 1]], 3, [128, 128, 1], \n",
    "                           f\"decay/large_{weight_decay:.7f}_{gain}.dict\", \n",
    "                               global_avg_pooling=True, fc_layers=[]).to(device)\n",
    "            loss_func = nn.CrossEntropyLoss()  # dont start from same initialization\n",
    "            optim = torch.optim.Adam(large_net.parameters(), weight_decay=weight_decay)\n",
    "            set_initializers(large_net, gain)\n",
    "\n",
    "            # train and evaluate\n",
    "            print(\"Training with gain\", gain, \"weight decay\", weight_decay)\n",
    "            curve = train(large_net, optim, loss_func, 25, train_loader, valid_loader, device=device)\n",
    "            large_net.load_model_state_dict()  # load the best model found over training\n",
    "            result = evaluate(large_net, loss_func, test_loader, device=device) \n",
    "\n",
    "            # record result\n",
    "            curves[(gain, weight_decay)] = curve\n",
    "            results[(gain, weight_decay)] = result"
   ]
  },
  {
   "cell_type": "code",
   "execution_count": null,
   "id": "b1c0610f",
   "metadata": {},
   "outputs": [],
   "source": [
    "print(results)"
   ]
  },
  {
   "cell_type": "code",
   "execution_count": null,
   "id": "cf2f2c81",
   "metadata": {},
   "outputs": [],
   "source": [
    "results = {(0.1, 1e-05): (99.80202204734087, 0.94754), (0.1, 3.511191734215127e-05): (103.67627491801977, 0.94252), (0.1, 0.0001232846739442066): (102.99732363969088, 0.94883), (0.1, 0.0004328761281083057): (118.29680179059505, 0.93689), (0.1, 0.0015199110829529332): (149.95270317792892, 0.9212), (0.1, 0.005336699231206307): (194.24484246224165, 0.90363), (0.1, 0.01873817422860383): (196.70017708837986, 0.92232), (0.1, 0.06579332246575675): (300.3072998225689, 0.89403), (0.1, 0.2310129700083158): (622.37857401371, 0.62512), (0.1, 0.8111308307896856): (832.7933620214462, 0.44141)}"
   ]
  },
  {
   "cell_type": "code",
   "execution_count": null,
   "id": "a3bfbb46",
   "metadata": {},
   "outputs": [],
   "source": [
    "results_arr = np.zeros((2,12))\n",
    "for i, gain in enumerate([0.1, 0.01]):\n",
    "    for j, weight_decay in enumerate(10**np.linspace(-5, 1, 12)):\n",
    "        if (gain, weight_decay) in results:\n",
    "            results_arr[i,j] = results[(gain, weight_decay)][0]\n",
    "imshow_centered_colorbar(results_arr)\n"
   ]
  }
 ],
 "metadata": {
  "kernelspec": {
   "display_name": "Python 3 (ipykernel)",
   "language": "python",
   "name": "python3"
  },
  "language_info": {
   "codemirror_mode": {
    "name": "ipython",
    "version": 3
   },
   "file_extension": ".py",
   "mimetype": "text/x-python",
   "name": "python",
   "nbconvert_exporter": "python",
   "pygments_lexer": "ipython3",
   "version": "3.10.8"
  }
 },
 "nbformat": 4,
 "nbformat_minor": 5
}
